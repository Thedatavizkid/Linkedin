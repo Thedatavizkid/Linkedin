{
 "cells": [
  {
   "cell_type": "code",
   "execution_count": 1,
   "id": "18c0437a",
   "metadata": {},
   "outputs": [],
   "source": [
    "# Libraries\n",
    "import time\n",
    "import pandas as pd    \n",
    "# ------------- # \n",
    "import selenium\n",
    "from selenium import webdriver\n",
    "from selenium.webdriver.common.by import By\n",
    "from selenium.webdriver.support.ui import WebDriverWait\n",
    "from selenium.webdriver.support import expected_conditions as EC\n",
    "from selenium.webdriver.common.keys import Keys"
   ]
  },
  {
   "cell_type": "code",
   "execution_count": 2,
   "id": "3d929d3f",
   "metadata": {},
   "outputs": [],
   "source": [
    "# Driver path\n",
    "path = r'C:\\Users\\Parth\\OneDrive\\Desktop\\chromedriver\\chromedriver.exe'\n",
    "driver = webdriver.Chrome(path)  "
   ]
  },
  {
   "cell_type": "code",
   "execution_count": 3,
   "id": "08efc2e7",
   "metadata": {},
   "outputs": [],
   "source": [
    "# Maximize Window\n",
    "driver.maximize_window() \n",
    "driver.minimize_window()  \n",
    "driver.maximize_window()  \n",
    "driver.switch_to.window(driver.current_window_handle)\n",
    "driver.implicitly_wait(10)"
   ]
  },
  {
   "cell_type": "code",
   "execution_count": 4,
   "id": "e72ebe57",
   "metadata": {},
   "outputs": [],
   "source": [
    "# Enter to the site\n",
    "driver.get('https://www.linkedin.com/login');\n",
    "time.sleep(2)\n",
    "\n",
    "# Accept cookies\n",
    "driver.find_element_by_xpath(\"/html/body/div/main/div[1]/div/section/div/div[2]/button[2]\").click()"
   ]
  },
  {
   "cell_type": "code",
   "execution_count": 5,
   "id": "24835172",
   "metadata": {},
   "outputs": [],
   "source": [
    "# User Credentials\n",
    "user_name = 'parthpatel_05@hotmail.com'\n",
    "password = 'Cricket199718may'\n",
    "driver.find_element_by_xpath('//*[@id=\"username\"]').send_keys(user_name)\n",
    "driver.find_element_by_xpath('//*[@id=\"password\"]').send_keys(password)\n",
    "time.sleep(1)\n",
    "\n",
    "# Login button\n",
    "driver.find_element_by_xpath('//*[@id=\"organic-div\"]/form/div[3]/button').click()\n",
    "driver.implicitly_wait(30)"
   ]
  },
  {
   "cell_type": "code",
   "execution_count": 6,
   "id": "7b11c1a3",
   "metadata": {},
   "outputs": [],
   "source": [
    "# Go to search results directly\n",
    "driver.get(\"https://www.linkedin.com/jobs/search?keywords=Data%20Analyst&location=London%2C%20England%2C%20United%20Kingdom&locationId=&geoId=102257491&f_TPR=r604800&f_JT=F&f_E=2%2C3&f_WT=3&position=1&pageNum=0\")\n",
    "time.sleep(1)"
   ]
  },
  {
   "cell_type": "code",
   "execution_count": 51,
   "id": "544cdf31",
   "metadata": {},
   "outputs": [
    {
     "name": "stdout",
     "output_type": "stream",
     "text": [
      "Links are being collected now.\n",
      "Found 0 links for job offers\n"
     ]
    }
   ],
   "source": [
    "# Get all links for these offers\n",
    "links = []\n",
    "# Navigate 22 pages\n",
    "print('Links are being collected now.')\n",
    "try: \n",
    "    for page in range(2,3):\n",
    "        time.sleep(2)\n",
    "        jobs_block = driver.find_element_by_class('jobs-search-results-list')\n",
    "        jobs_list= jobs_block.find_elements(By.CSS_SELECTOR, '.jobs-search-results-list-item')\n",
    "    \n",
    "        for job in jobs_list:\n",
    "            all_links = job.find_elements_by_tag_name('a')\n",
    "            for a in all_links:\n",
    "                if str(a.get_attribute('href')).startswith(\"https://www.linkedin.com/jobs/view\") and a.get_attribute('href') not in links: \n",
    "                    links.append(a.get_attribute('href'))\n",
    "                else:\n",
    "                    pass\n",
    "            # scroll down for each job element\n",
    "            driver.execute_script(\"arguments[0].scrollIntoView();\", job)\n",
    "        \n",
    "        print(f'Collecting the links in the page: {page-1}')\n",
    "        # go to next page:\n",
    "        driver.find_element_by_xpath(f\"//button[@aria-label='Page {page}']\").click()\n",
    "        time.sleep(3)\n",
    "except:\n",
    "    pass\n",
    "print('Found ' + str(len(links)) + ' links for job offers')"
   ]
  },
  {
   "cell_type": "code",
   "execution_count": 8,
   "id": "f8258916",
   "metadata": {},
   "outputs": [],
   "source": [
    "# Create empty lists to store information\n",
    "job_titles = []\n",
    "company_names = []\n",
    "company_locations = []\n",
    "work_methods = []\n",
    "post_dates = []\n",
    "work_times = [] \n",
    "job_desc = []\n",
    "\n",
    "i = 0\n",
    "j = 1"
   ]
  },
  {
   "cell_type": "code",
   "execution_count": 9,
   "id": "5429b33e",
   "metadata": {},
   "outputs": [
    {
     "name": "stdout",
     "output_type": "stream",
     "text": [
      "Visiting the links and collecting information just started.\n"
     ]
    }
   ],
   "source": [
    "# Visit each link one by one to scrape the information\n",
    "print('Visiting the links and collecting information just started.')\n",
    "for i in range(len(links)):\n",
    "    try:\n",
    "        driver.get(links[i])\n",
    "        i=i+1\n",
    "        time.sleep(2)\n",
    "        # Click See more.\n",
    "        driver.find_element_by_class_name(\"artdeco-card__actions\").click()\n",
    "        time.sleep(2)\n",
    "    except:\n",
    "        pass"
   ]
  },
  {
   "cell_type": "code",
   "execution_count": 11,
   "id": "0d05ce7c",
   "metadata": {},
   "outputs": [],
   "source": [
    "   # Find the general information of the job offers\n",
    "contents = driver.find_elements_by_class_name('p5')\n",
    "for content in contents:\n",
    "        try:\n",
    "            job_titles.append(content.find_element_by_tag_name(\"h1\").text)\n",
    "            company_names.append(content.find_element_by_class_name(\"jobs-unified-top-card__company-name\").text)\n",
    "            company_locations.append(content.find_element_by_class_name(\"jobs-unified-top-card__bullet\").text)\n",
    "            work_methods.append(content.find_element_by_class_name(\"jobs-unified-top-card__workplace-type\").text)\n",
    "            post_dates.append(content.find_element_by_class_name(\"jobs-unified-top-card__posted-date\").text)\n",
    "            work_times.append(content.find_element_by_class_name(\"jobs-unified-top-card__job-insight\").text)\n",
    "            print(f'Scraping the Job Offer {j} DONE.')\n",
    "            j+= 1\n",
    "            \n",
    "        except:\n",
    "            pass\n",
    "        time.sleep(2)"
   ]
  },
  {
   "cell_type": "code",
   "execution_count": 14,
   "id": "57dfe483",
   "metadata": {},
   "outputs": [
    {
     "name": "stdout",
     "output_type": "stream",
     "text": [
      "Scraping the Job Offer 1\n"
     ]
    }
   ],
   "source": [
    "# Scraping the job description\n",
    "job_description = driver.find_elements_by_class_name('jobs-description__content')\n",
    "for description in job_description:\n",
    "        job_text = description.find_element_by_class_name(\"jobs-box__html-content\").text\n",
    "        job_desc.append(job_text)\n",
    "        print(f'Scraping the Job Offer {j}')\n",
    "        time.sleep(2)  "
   ]
  },
  {
   "cell_type": "code",
   "execution_count": 15,
   "id": "08f0ca30",
   "metadata": {},
   "outputs": [],
   "source": [
    "# Creating the dataframe \n",
    "df = pd.DataFrame(list(zip(job_titles,company_names,\n",
    "                    company_locations,work_methods,\n",
    "                    post_dates,work_times)),\n",
    "                    columns =['job_title', 'company_name',\n",
    "                           'company_location','work_method',\n",
    "                           'post_date','work_time'])\n",
    "\n",
    "# Storing the data to csv file\n",
    "df.to_csv('job_offers.csv', index=False)\n",
    "\n",
    "# Output job descriptions to txt file\n",
    "with open('job_descriptions.txt', 'w',encoding=\"utf-8\") as f:\n",
    "    for line in job_desc:\n",
    "        f.write(line)\n",
    "        f.write('\\n')"
   ]
  },
  {
   "cell_type": "code",
   "execution_count": null,
   "id": "fa1ff1bb",
   "metadata": {},
   "outputs": [],
   "source": []
  }
 ],
 "metadata": {
  "kernelspec": {
   "display_name": "Python 3 (ipykernel)",
   "language": "python",
   "name": "python3"
  },
  "language_info": {
   "codemirror_mode": {
    "name": "ipython",
    "version": 3
   },
   "file_extension": ".py",
   "mimetype": "text/x-python",
   "name": "python",
   "nbconvert_exporter": "python",
   "pygments_lexer": "ipython3",
   "version": "3.10.6"
  }
 },
 "nbformat": 4,
 "nbformat_minor": 5
}
